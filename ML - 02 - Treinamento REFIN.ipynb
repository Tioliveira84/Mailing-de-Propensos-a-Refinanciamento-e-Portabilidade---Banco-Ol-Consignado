{
 "cells": [
  {
   "cell_type": "markdown",
   "metadata": {},
   "source": [
    "<div class=\"alert alert-block alert-info\">\n",
    "<b>Notebook Description:</b> Este Notebook tem o objetivo implementar um modelo neural sequencial com 2 camadas escondidas, com funções de ativação ReLu como uma evolução do primeiro modelo implementando buscando a melhoria no desempenho na predição de refin.\n",
    "</div>"
   ]
  },
  {
   "cell_type": "markdown",
   "metadata": {},
   "source": [
    "### **SUMÁRIO**\n",
    ">1. [01 - Pacotes Necessário](#pacotes)\n",
    ">2. [02 - Carga de Dados](#carga-dados)\n",
    ">3. [03 - Sobre o Modelo](#info)\n",
    ">4. [04 - Conjunto de Dados de Treinamento e Teste](#datasets)\n",
    ">5. [05 - Implamentação do Modelo](#impModelo)\n",
    "    >>5.1 [05.1 - Função SIGMOID](#sigmoid)<br>\n",
    "    >>5.2 [05.2 - Função para Inicializar os Parametros e Bias](#inicializar)<br>"
   ]
  },
  {
   "cell_type": "markdown",
   "metadata": {},
   "source": [
    "***\n",
    "<font size=\"6\"><a id=\"pacotes\">01 - Pacotes Necessários</a></font>\n",
    "***"
   ]
  },
  {
   "cell_type": "markdown",
   "metadata": {},
   "source": [
    "<div class=\"alert alert-block alert-success\">\n",
    "<b>Descrição: </b> Esta seção tem como objetivo instalar e carregar todos os pacotes necessários para as análises. Estamos utilizando aqui a biblioteca Keras, um \"front-end\" para utilização do tensorflow, utilizaremos estas bibliotecas para a construção e treinamento do modelo.\n",
    "</div>"
   ]
  },
  {
   "cell_type": "code",
   "execution_count": 1,
   "metadata": {},
   "outputs": [
    {
     "name": "stderr",
     "output_type": "stream",
     "text": [
      "Using TensorFlow backend.\n"
     ]
    },
    {
     "ename": "ModuleNotFoundError",
     "evalue": "No module named 'watson_machine_learning_client'",
     "output_type": "error",
     "traceback": [
      "\u001b[1;31m---------------------------------------------------------------------------\u001b[0m",
      "\u001b[1;31mModuleNotFoundError\u001b[0m                       Traceback (most recent call last)",
      "\u001b[1;32m<ipython-input-1-f5674be3682c>\u001b[0m in \u001b[0;36m<module>\u001b[1;34m\u001b[0m\n\u001b[0;32m     20\u001b[0m \u001b[1;33m\u001b[0m\u001b[0m\n\u001b[0;32m     21\u001b[0m \u001b[1;32mimport\u001b[0m \u001b[0mtarfile\u001b[0m\u001b[1;33m\u001b[0m\u001b[1;33m\u001b[0m\u001b[0m\n\u001b[1;32m---> 22\u001b[1;33m \u001b[1;32mfrom\u001b[0m \u001b[0mwatson_machine_learning_client\u001b[0m \u001b[1;32mimport\u001b[0m \u001b[0mWatsonMachineLearningAPIClient\u001b[0m\u001b[1;33m\u001b[0m\u001b[1;33m\u001b[0m\u001b[0m\n\u001b[0m\u001b[0;32m     23\u001b[0m \u001b[1;32mimport\u001b[0m \u001b[0mjson\u001b[0m\u001b[1;33m\u001b[0m\u001b[1;33m\u001b[0m\u001b[0m\n\u001b[0;32m     24\u001b[0m \u001b[1;32mfrom\u001b[0m \u001b[0mkeras\u001b[0m\u001b[1;33m.\u001b[0m\u001b[0mcallbacks\u001b[0m \u001b[1;32mimport\u001b[0m \u001b[0mHistory\u001b[0m\u001b[1;33m\u001b[0m\u001b[1;33m\u001b[0m\u001b[0m\n",
      "\u001b[1;31mModuleNotFoundError\u001b[0m: No module named 'watson_machine_learning_client'"
     ]
    }
   ],
   "source": [
    "import sys\n",
    "import types\n",
    "import pandas as pd\n",
    "import numpy as np\n",
    "import matplotlib.pyplot as plt\n",
    "%matplotlib inline\n",
    "\n",
    "from keras.models import Sequential\n",
    "from keras.layers import Dropout, Dense\n",
    "\n",
    "from keras.optimizers import Adam, Nadam\n",
    "from keras.activations import relu, elu\n",
    "from keras.losses import binary_crossentropy\n",
    "\n",
    "from sklearn.model_selection import train_test_split\n",
    "from sklearn.metrics import confusion_matrix\n",
    "import time\n",
    "import h5py\n",
    "import gc\n",
    "\n",
    "import tarfile\n",
    "from watson_machine_learning_client import WatsonMachineLearningAPIClient\n",
    "import json\n",
    "from keras.callbacks import History \n",
    "from contextlib import suppress\n",
    "import os"
   ]
  },
  {
   "cell_type": "markdown",
   "metadata": {},
   "source": [
    "***\n",
    "<font size=\"6\"><a id=\"carga-dados\">02 - Carga de Dados</a></font>\n",
    "***"
   ]
  },
  {
   "cell_type": "markdown",
   "metadata": {},
   "source": [
    "<div class=\"alert alert-block alert-success\">\n",
    "<b>Descrição: </b> Esta seção tem como objetivo carregar os dados tratados no notebook  ML - 01 - Arquivo Treinamento para treinamento e teste do modelo.\n",
    "</div>"
   ]
  },
  {
   "cell_type": "code",
   "execution_count": 2,
   "metadata": {},
   "outputs": [],
   "source": [
    "def DownloadAndLoadFiles(filename: str):\n",
    "    \n",
    "    print('*'*50)\n",
    "    print('*   Fazer o download do Arquivo {}    *'.format(filename))\n",
    "    print('*'*50)\n",
    "    \n",
    "    cosFiles.download_file(Bucket='04work-crm',Key=filename,Filename=filename)\n",
    "    \n",
    "    print('*'*50)\n",
    "    print('* Carregar o Arquivo {} em um DataFrame  *'.format(filename))\n",
    "    print('*'*50)\n",
    "    \n",
    "    dfFile = pd.read_csv(filename)\n",
    "    \n",
    "    print('*'*50)\n",
    "    print('*  Carga do Arquivo {} executado  *'.format(filename))\n",
    "    print('*'*50)\n",
    "    \n",
    "    return dfFile"
   ]
  },
  {
   "cell_type": "code",
   "execution_count": 3,
   "metadata": {},
   "outputs": [],
   "source": [
    "cos_credentials={\n",
    "  \"apikey\": 'xxxxxxxxxxxxxxxxxxxxxxxxxxxxxxxxxxxxxxxx', #credenciais removidas por motivo de segurança\n",
    "  \"endpoints\": \"https://cos-service.bluemix.net/endpoints\",\n",
    "  \"iam_apikey_description\": \"Auto generated apikey during resource-key operation for Instance - crn:v1:bluemix:public:cloud-object-storage:global:a/f819585dc4c43dfca0a953a8fc2635bb:a5bc02d4-816f-4d0b-8830-bd98421cb97f::\",\n",
    "  \"iam_apikey_name\": 'xxxxxxxxxxxxxxxxxxxxxxxxxxxxxxxxxxxxxxxx', #credenciais removidas por motivo de segurança\n",
    "  \"iam_role_crn\": \"crn:v1:bluemix:public:iam::::serviceRole:Manager\",\n",
    "  \"iam_serviceid_crn\": \"crn:v1:bluemix:public:iam-identity::a/f819585dc4c43dfca0a953a8fc2635bb::serviceid:ServiceId-2e1053db-c54b-46d5-821c-85b692c0ac0e\",\n",
    "  \"resource_instance_id\": \"crn:v1:bluemix:public:cloud-object-storage:global:a/f819585dc4c43dfca0a953a8fc2635bb:a5bc02d4-816f-4d0b-8830-bd98421cb97f::\"\n",
    "}\n",
    "auth_endpoint = 'https://iam.bluemix.net/oidc/token'\n",
    "service_endpoint = 'https://s3.us-south.cloud-object-storage.appdomain.cloud'"
   ]
  },
  {
   "cell_type": "code",
   "execution_count": 4,
   "metadata": {},
   "outputs": [],
   "source": [
    "cosFiles = ibm_boto3.client('s3',\n",
    "                       ibm_api_key_id=cos_credentials['apikey'],\n",
    "                       ibm_service_instance_id=cos_credentials['resource_instance_id'],\n",
    "                       ibm_auth_endpoint=auth_endpoint,\n",
    "                       config=Config(signature_version='oauth'),\n",
    "                       endpoint_url=service_endpoint)"
   ]
  },
  {
   "cell_type": "code",
   "execution_count": 5,
   "metadata": {},
   "outputs": [
    {
     "name": "stdout",
     "output_type": "stream",
     "text": [
      "**************************************************\n",
      "*   Fazer o download do Arquivo ArquivoTreinamento.csv    *\n",
      "**************************************************\n",
      "**************************************************\n",
      "* Carregar o Arquivo ArquivoTreinamento.csv em um DataFrame  *\n",
      "**************************************************\n",
      "**************************************************\n",
      "*  Carga do Arquivo ArquivoTreinamento.csv executado  *\n",
      "**************************************************\n"
     ]
    }
   ],
   "source": [
    "dfData = DownloadAndLoadFiles('ArquivoTreinamento.csv')"
   ]
  },
  {
   "cell_type": "code",
   "execution_count": 6,
   "metadata": {},
   "outputs": [
    {
     "data": {
      "text/html": [
       "<div>\n",
       "<style scoped>\n",
       "    .dataframe tbody tr th:only-of-type {\n",
       "        vertical-align: middle;\n",
       "    }\n",
       "\n",
       "    .dataframe tbody tr th {\n",
       "        vertical-align: top;\n",
       "    }\n",
       "\n",
       "    .dataframe thead th {\n",
       "        text-align: right;\n",
       "    }\n",
       "</style>\n",
       "<table border=\"1\" class=\"dataframe\">\n",
       "  <thead>\n",
       "    <tr style=\"text-align: right;\">\n",
       "      <th></th>\n",
       "      <th>TAXA</th>\n",
       "      <th>QUANT_PRESTACAO</th>\n",
       "      <th>VALOR_FINANCIADO</th>\n",
       "      <th>VALOR_PRESTACAO</th>\n",
       "      <th>DURACAO_CONTRATO</th>\n",
       "      <th>y</th>\n",
       "      <th>FLAG_SE_EH_REFIN</th>\n",
       "      <th>STATUS_A</th>\n",
       "      <th>STATUS_C</th>\n",
       "      <th>STATUS_E</th>\n",
       "      <th>CANAL_BPV</th>\n",
       "      <th>CANAL_CORRESPONDENTE</th>\n",
       "      <th>CANAL_INTERNET</th>\n",
       "      <th>CANAL_OUTROS</th>\n",
       "      <th>GRPCONV_A-INSS</th>\n",
       "      <th>GRPCONV_B-SIAPE</th>\n",
       "      <th>GRPCONV_C-EST MT</th>\n",
       "      <th>GRPCONV_D-EST SC</th>\n",
       "      <th>GRPCONV_E-OUTROS</th>\n",
       "    </tr>\n",
       "  </thead>\n",
       "  <tbody>\n",
       "    <tr>\n",
       "      <th>0</th>\n",
       "      <td>0.315140</td>\n",
       "      <td>0.468085</td>\n",
       "      <td>0.009895</td>\n",
       "      <td>0.013569</td>\n",
       "      <td>0.058945</td>\n",
       "      <td>1</td>\n",
       "      <td>0</td>\n",
       "      <td>0</td>\n",
       "      <td>0</td>\n",
       "      <td>1</td>\n",
       "      <td>0</td>\n",
       "      <td>1</td>\n",
       "      <td>0</td>\n",
       "      <td>0</td>\n",
       "      <td>1</td>\n",
       "      <td>0</td>\n",
       "      <td>0</td>\n",
       "      <td>0</td>\n",
       "      <td>0</td>\n",
       "    </tr>\n",
       "    <tr>\n",
       "      <th>1</th>\n",
       "      <td>0.538059</td>\n",
       "      <td>1.000000</td>\n",
       "      <td>0.025711</td>\n",
       "      <td>0.031853</td>\n",
       "      <td>0.530507</td>\n",
       "      <td>1</td>\n",
       "      <td>1</td>\n",
       "      <td>0</td>\n",
       "      <td>0</td>\n",
       "      <td>1</td>\n",
       "      <td>0</td>\n",
       "      <td>1</td>\n",
       "      <td>0</td>\n",
       "      <td>0</td>\n",
       "      <td>0</td>\n",
       "      <td>0</td>\n",
       "      <td>0</td>\n",
       "      <td>0</td>\n",
       "      <td>1</td>\n",
       "    </tr>\n",
       "    <tr>\n",
       "      <th>2</th>\n",
       "      <td>0.536430</td>\n",
       "      <td>1.000000</td>\n",
       "      <td>0.013512</td>\n",
       "      <td>0.016625</td>\n",
       "      <td>0.482937</td>\n",
       "      <td>1</td>\n",
       "      <td>0</td>\n",
       "      <td>0</td>\n",
       "      <td>0</td>\n",
       "      <td>1</td>\n",
       "      <td>0</td>\n",
       "      <td>1</td>\n",
       "      <td>0</td>\n",
       "      <td>0</td>\n",
       "      <td>0</td>\n",
       "      <td>1</td>\n",
       "      <td>0</td>\n",
       "      <td>0</td>\n",
       "      <td>0</td>\n",
       "    </tr>\n",
       "    <tr>\n",
       "      <th>3</th>\n",
       "      <td>0.475328</td>\n",
       "      <td>0.744681</td>\n",
       "      <td>0.014933</td>\n",
       "      <td>0.018747</td>\n",
       "      <td>0.765253</td>\n",
       "      <td>0</td>\n",
       "      <td>1</td>\n",
       "      <td>0</td>\n",
       "      <td>0</td>\n",
       "      <td>1</td>\n",
       "      <td>0</td>\n",
       "      <td>1</td>\n",
       "      <td>0</td>\n",
       "      <td>0</td>\n",
       "      <td>1</td>\n",
       "      <td>0</td>\n",
       "      <td>0</td>\n",
       "      <td>0</td>\n",
       "      <td>0</td>\n",
       "    </tr>\n",
       "    <tr>\n",
       "      <th>4</th>\n",
       "      <td>0.443015</td>\n",
       "      <td>0.989362</td>\n",
       "      <td>0.253108</td>\n",
       "      <td>0.270901</td>\n",
       "      <td>0.248190</td>\n",
       "      <td>1</td>\n",
       "      <td>1</td>\n",
       "      <td>0</td>\n",
       "      <td>0</td>\n",
       "      <td>1</td>\n",
       "      <td>0</td>\n",
       "      <td>0</td>\n",
       "      <td>0</td>\n",
       "      <td>1</td>\n",
       "      <td>0</td>\n",
       "      <td>0</td>\n",
       "      <td>0</td>\n",
       "      <td>0</td>\n",
       "      <td>1</td>\n",
       "    </tr>\n",
       "  </tbody>\n",
       "</table>\n",
       "</div>"
      ],
      "text/plain": [
       "       TAXA  QUANT_PRESTACAO  VALOR_FINANCIADO  VALOR_PRESTACAO  \\\n",
       "0  0.315140         0.468085          0.009895         0.013569   \n",
       "1  0.538059         1.000000          0.025711         0.031853   \n",
       "2  0.536430         1.000000          0.013512         0.016625   \n",
       "3  0.475328         0.744681          0.014933         0.018747   \n",
       "4  0.443015         0.989362          0.253108         0.270901   \n",
       "\n",
       "   DURACAO_CONTRATO  y  FLAG_SE_EH_REFIN  STATUS_A  STATUS_C  STATUS_E  \\\n",
       "0          0.058945  1                 0         0         0         1   \n",
       "1          0.530507  1                 1         0         0         1   \n",
       "2          0.482937  1                 0         0         0         1   \n",
       "3          0.765253  0                 1         0         0         1   \n",
       "4          0.248190  1                 1         0         0         1   \n",
       "\n",
       "   CANAL_BPV  CANAL_CORRESPONDENTE  CANAL_INTERNET  CANAL_OUTROS  \\\n",
       "0          0                     1               0             0   \n",
       "1          0                     1               0             0   \n",
       "2          0                     1               0             0   \n",
       "3          0                     1               0             0   \n",
       "4          0                     0               0             1   \n",
       "\n",
       "   GRPCONV_A-INSS  GRPCONV_B-SIAPE  GRPCONV_C-EST MT  GRPCONV_D-EST SC  \\\n",
       "0               1                0                 0                 0   \n",
       "1               0                0                 0                 0   \n",
       "2               0                1                 0                 0   \n",
       "3               1                0                 0                 0   \n",
       "4               0                0                 0                 0   \n",
       "\n",
       "   GRPCONV_E-OUTROS  \n",
       "0                 0  \n",
       "1                 1  \n",
       "2                 0  \n",
       "3                 0  \n",
       "4                 1  "
      ]
     },
     "execution_count": 6,
     "metadata": {},
     "output_type": "execute_result"
    }
   ],
   "source": [
    "dfData.head()"
   ]
  },
  {
   "cell_type": "code",
   "execution_count": 7,
   "metadata": {},
   "outputs": [],
   "source": [
    "bSample = False"
   ]
  },
  {
   "cell_type": "code",
   "execution_count": 8,
   "metadata": {},
   "outputs": [],
   "source": [
    "if bSample:\n",
    "    #Gerar Sample do total apenas para manipular o notebook com mais agilidade, para salvar o arquivo final, não será gerado sample.\n",
    "    dfData = dfData.sample(n=int(dfData.shape[0]*0.05))\n",
    "    print('Shape do Data Frame com 5% de Amostra: ', dfData.shape)"
   ]
  },
  {
   "cell_type": "markdown",
   "metadata": {},
   "source": [
    "***\n",
    "<font size=\"6\"><a id=\"info\">03 - Sobre o Modelo</a></font>\n",
    "***"
   ]
  },
  {
   "cell_type": "markdown",
   "metadata": {},
   "source": [
    "<div class=\"alert alert-block alert-success\">\n",
    "<b>Section Description: </b> O modelo abaixo implementa duas comandas escondidas que são ativivadas com a função ReLu (Rectified Liner Units) e a camanda de saída que é ativada pela função Sigmoid. Apenas 4 neuronios por camada escondida foram criados, mas poderemos rever este hyperparametro mais para frente.\n",
    "</div>"
   ]
  },
  {
   "cell_type": "markdown",
   "metadata": {},
   "source": [
    "### Função ReLu\n",
    "É a função de ativação mais comum utilizada em modelos de Deep Learning. Valores menores que 0 (negativos) fazem com que a função retorne 0 e para valores positivos o maior valor pode ser até o valor inputado, ou seja, a equação para ReLu pode ser descrita como:\n",
    "\n",
    "$$ \\mathcal{f}{(x)} = max{(0, x)}$$"
   ]
  },
  {
   "cell_type": "markdown",
   "metadata": {},
   "source": [
    "<img src=\"https://raw.githubusercontent.com/BancoOle-Analytics/Images/master/Sequencial_Keras.png\" width=\"1000\" height=\"700\">"
   ]
  },
  {
   "cell_type": "markdown",
   "metadata": {},
   "source": [
    "***\n",
    "<font size=\"6\"><a id=\"datasets\">04 - Conjunto de Dados de Treinamento e Teste</a></font>\n",
    "***"
   ]
  },
  {
   "cell_type": "markdown",
   "metadata": {},
   "source": [
    "<div class=\"alert alert-block alert-success\">\n",
    "<b>Section Description: </b> A seção abaixo tem como objetivo gerar os conjunto de dados de treinamento e teste, considerando as feartures (xTrain e xTest) e label (yTrain e yTest)\n",
    "</div>"
   ]
  },
  {
   "cell_type": "code",
   "execution_count": 9,
   "metadata": {},
   "outputs": [],
   "source": [
    "#Guardar em um DataFrame apenas as Saídas (label)\n",
    "dfTest = dfData['y']\n",
    "#Remover as saídas (label) do Dataframe original para gerar o teste e o treinamento\n",
    "arRemore = ['y']\n",
    "dfTrain = dfData.drop(columns=arRemore)"
   ]
  },
  {
   "cell_type": "code",
   "execution_count": 10,
   "metadata": {},
   "outputs": [
    {
     "name": "stdout",
     "output_type": "stream",
     "text": [
      "Shape y: (100000,)\n",
      "Shape X: (100000, 18)\n"
     ]
    }
   ],
   "source": [
    "print('Shape y:',dfTest.shape)\n",
    "print('Shape X:',dfTrain.shape)"
   ]
  },
  {
   "cell_type": "code",
   "execution_count": 11,
   "metadata": {},
   "outputs": [],
   "source": [
    "#Utilizar o sklearn para gerar os sets necessários\n",
    "X_train, X_test, Y_train, Y_test = train_test_split(dfTrain.values, dfTest.values, test_size=0.33)"
   ]
  },
  {
   "cell_type": "code",
   "execution_count": 12,
   "metadata": {},
   "outputs": [
    {
     "name": "stdout",
     "output_type": "stream",
     "text": [
      "Shape X Train:  (67000, 18)\n",
      "Shape Y Train:  (67000,)\n",
      "Shape X Test:  (33000, 18)\n",
      "Shape Y Test:  (33000,)\n"
     ]
    }
   ],
   "source": [
    "print('Shape X Train: ',X_train.shape)\n",
    "print('Shape Y Train: ',Y_train.shape)\n",
    "print('Shape X Test: ',X_test.shape)\n",
    "print('Shape Y Test: ',Y_test.shape)"
   ]
  },
  {
   "cell_type": "code",
   "execution_count": 13,
   "metadata": {},
   "outputs": [
    {
     "data": {
      "text/plain": [
       "150"
      ]
     },
     "execution_count": 13,
     "metadata": {},
     "output_type": "execute_result"
    }
   ],
   "source": [
    "del dfData\n",
    "del dfTrain\n",
    "del dfTest\n",
    "gc.collect()"
   ]
  },
  {
   "cell_type": "markdown",
   "metadata": {},
   "source": [
    "***\n",
    "<font size=\"6\"><a id=\"modelo\">05 - Modelo</a></font>\n",
    "***"
   ]
  },
  {
   "cell_type": "markdown",
   "metadata": {},
   "source": [
    "<div class=\"alert alert-block alert-success\">\n",
    "<b>Section Description: </b> A seção abaixo tem como objetivo criar e treinar o modelo neural\n",
    "</div>"
   ]
  },
  {
   "cell_type": "markdown",
   "metadata": {},
   "source": [
    "***\n",
    "<font size=\"6\"><a id=\"camadas\">05.1 - Camadas da Rede Neural</a></font>\n",
    "***"
   ]
  },
  {
   "cell_type": "markdown",
   "metadata": {},
   "source": [
    "<div class=\"alert alert-block alert-success\">\n",
    "<b>Section Description: </b> A seção abaixo tem como objetivo criar as camadas da rede neural\n",
    "</div>"
   ]
  },
  {
   "cell_type": "code",
   "execution_count": 14,
   "metadata": {},
   "outputs": [
    {
     "name": "stdout",
     "output_type": "stream",
     "text": [
      "WARNING:tensorflow:From /opt/conda/envs/Python36/lib/python3.6/site-packages/tensorflow/python/framework/op_def_library.py:263: colocate_with (from tensorflow.python.framework.ops) is deprecated and will be removed in a future version.\n",
      "Instructions for updating:\n",
      "Colocations handled automatically by placer.\n",
      "WARNING:tensorflow:From /opt/conda/envs/Python36/lib/python3.6/site-packages/keras/backend/tensorflow_backend.py:3445: calling dropout (from tensorflow.python.ops.nn_ops) with keep_prob is deprecated and will be removed in a future version.\n",
      "Instructions for updating:\n",
      "Please use `rate` instead of `keep_prob`. Rate should be set to `rate = 1 - keep_prob`.\n",
      "WARNING:tensorflow:From /opt/conda/envs/Python36/lib/python3.6/site-packages/tensorflow/python/ops/math_ops.py:3066: to_int32 (from tensorflow.python.ops.math_ops) is deprecated and will be removed in a future version.\n",
      "Instructions for updating:\n",
      "Use tf.cast instead.\n",
      "Train on 67000 samples, validate on 33000 samples\n",
      "Epoch 1/50\n",
      " - 232s - loss: 0.2728 - acc: 0.8962 - val_loss: 0.2086 - val_acc: 0.9283\n",
      "Epoch 2/50\n",
      " - 231s - loss: 0.2279 - acc: 0.9247 - val_loss: 0.2059 - val_acc: 0.9302\n",
      "Epoch 3/50\n",
      " - 233s - loss: 0.2246 - acc: 0.9251 - val_loss: 0.2035 - val_acc: 0.9300\n",
      "Epoch 4/50\n",
      " - 234s - loss: 0.2228 - acc: 0.9245 - val_loss: 0.2069 - val_acc: 0.9277\n",
      "Epoch 5/50\n",
      " - 236s - loss: 0.2202 - acc: 0.9253 - val_loss: 0.2024 - val_acc: 0.9309\n",
      "Epoch 6/50\n",
      " - 236s - loss: 0.2184 - acc: 0.9257 - val_loss: 0.2039 - val_acc: 0.9307\n",
      "Epoch 7/50\n",
      " - 230s - loss: 0.2188 - acc: 0.9250 - val_loss: 0.2014 - val_acc: 0.9289\n",
      "Epoch 8/50\n",
      " - 231s - loss: 0.2160 - acc: 0.9257 - val_loss: 0.1957 - val_acc: 0.9318\n",
      "Epoch 9/50\n",
      " - 231s - loss: 0.2161 - acc: 0.9256 - val_loss: 0.1954 - val_acc: 0.9325\n",
      "Epoch 10/50\n",
      " - 229s - loss: 0.2146 - acc: 0.9261 - val_loss: 0.2005 - val_acc: 0.9288\n",
      "Epoch 11/50\n",
      " - 224s - loss: 0.2141 - acc: 0.9264 - val_loss: 0.1985 - val_acc: 0.9296\n",
      "Epoch 12/50\n",
      " - 227s - loss: 0.2140 - acc: 0.9259 - val_loss: 0.1955 - val_acc: 0.9301\n",
      "Epoch 13/50\n",
      " - 228s - loss: 0.2143 - acc: 0.9261 - val_loss: 0.1922 - val_acc: 0.9324\n",
      "Epoch 14/50\n",
      " - 227s - loss: 0.2135 - acc: 0.9264 - val_loss: 0.1921 - val_acc: 0.9321\n",
      "Epoch 15/50\n",
      " - 223s - loss: 0.2138 - acc: 0.9260 - val_loss: 0.1924 - val_acc: 0.9319\n",
      "Epoch 16/50\n",
      " - 228s - loss: 0.2135 - acc: 0.9255 - val_loss: 0.1961 - val_acc: 0.9304\n",
      "Epoch 17/50\n",
      " - 223s - loss: 0.2124 - acc: 0.9270 - val_loss: 0.1906 - val_acc: 0.9326\n",
      "Epoch 18/50\n",
      " - 226s - loss: 0.2128 - acc: 0.9263 - val_loss: 0.1933 - val_acc: 0.9316\n",
      "Epoch 19/50\n",
      " - 227s - loss: 0.2128 - acc: 0.9266 - val_loss: 0.1931 - val_acc: 0.9315\n",
      "Epoch 20/50\n",
      " - 226s - loss: 0.2134 - acc: 0.9262 - val_loss: 0.1954 - val_acc: 0.9325\n",
      "Epoch 21/50\n",
      " - 226s - loss: 0.2117 - acc: 0.9267 - val_loss: 0.1936 - val_acc: 0.9322\n",
      "Epoch 22/50\n",
      " - 229s - loss: 0.2129 - acc: 0.9259 - val_loss: 0.1946 - val_acc: 0.9316\n",
      "Epoch 23/50\n",
      " - 222s - loss: 0.2126 - acc: 0.9267 - val_loss: 0.1975 - val_acc: 0.9291\n",
      "Epoch 24/50\n",
      " - 225s - loss: 0.2120 - acc: 0.9265 - val_loss: 0.1965 - val_acc: 0.9308\n",
      "Epoch 25/50\n",
      " - 222s - loss: 0.2106 - acc: 0.9274 - val_loss: 0.1923 - val_acc: 0.9320\n",
      "Epoch 26/50\n",
      " - 225s - loss: 0.2132 - acc: 0.9259 - val_loss: 0.1961 - val_acc: 0.9322\n",
      "Epoch 27/50\n",
      " - 222s - loss: 0.2126 - acc: 0.9261 - val_loss: 0.1958 - val_acc: 0.9321\n",
      "Epoch 28/50\n",
      " - 224s - loss: 0.2133 - acc: 0.9265 - val_loss: 0.1948 - val_acc: 0.9324\n",
      "Epoch 29/50\n",
      " - 221s - loss: 0.2116 - acc: 0.9272 - val_loss: 0.1929 - val_acc: 0.9313\n",
      "Epoch 30/50\n",
      " - 225s - loss: 0.2115 - acc: 0.9267 - val_loss: 0.1958 - val_acc: 0.9298\n",
      "Epoch 31/50\n",
      " - 224s - loss: 0.2119 - acc: 0.9268 - val_loss: 0.1972 - val_acc: 0.9298\n",
      "Epoch 32/50\n",
      " - 225s - loss: 0.2120 - acc: 0.9269 - val_loss: 0.1921 - val_acc: 0.9321\n",
      "Epoch 33/50\n",
      " - 223s - loss: 0.2131 - acc: 0.9267 - val_loss: 0.1915 - val_acc: 0.9321\n",
      "Epoch 34/50\n",
      " - 227s - loss: 0.2126 - acc: 0.9267 - val_loss: 0.1948 - val_acc: 0.9294\n",
      "Epoch 35/50\n",
      " - 226s - loss: 0.2110 - acc: 0.9270 - val_loss: 0.1932 - val_acc: 0.9317\n",
      "Epoch 36/50\n",
      " - 226s - loss: 0.2120 - acc: 0.9273 - val_loss: 0.1954 - val_acc: 0.9297\n",
      "Epoch 37/50\n",
      " - 233s - loss: 0.2118 - acc: 0.9265 - val_loss: 0.1963 - val_acc: 0.9295\n",
      "Epoch 38/50\n",
      " - 225s - loss: 0.2106 - acc: 0.9273 - val_loss: 0.1922 - val_acc: 0.9320\n",
      "Epoch 39/50\n",
      " - 225s - loss: 0.2122 - acc: 0.9262 - val_loss: 0.1911 - val_acc: 0.9316\n",
      "Epoch 40/50\n",
      " - 221s - loss: 0.2115 - acc: 0.9271 - val_loss: 0.1990 - val_acc: 0.9286\n",
      "Epoch 41/50\n",
      " - 222s - loss: 0.2111 - acc: 0.9269 - val_loss: 0.1942 - val_acc: 0.9315\n",
      "Epoch 42/50\n",
      " - 227s - loss: 0.2111 - acc: 0.9269 - val_loss: 0.1902 - val_acc: 0.9325\n",
      "Epoch 43/50\n",
      " - 228s - loss: 0.2117 - acc: 0.9268 - val_loss: 0.1934 - val_acc: 0.9320\n",
      "Epoch 44/50\n",
      " - 227s - loss: 0.2118 - acc: 0.9267 - val_loss: 0.1913 - val_acc: 0.9308\n",
      "Epoch 45/50\n",
      " - 221s - loss: 0.2112 - acc: 0.9269 - val_loss: 0.1935 - val_acc: 0.9313\n",
      "Epoch 46/50\n",
      " - 222s - loss: 0.2115 - acc: 0.9272 - val_loss: 0.1926 - val_acc: 0.9309\n",
      "Epoch 47/50\n",
      " - 224s - loss: 0.2112 - acc: 0.9271 - val_loss: 0.1900 - val_acc: 0.9320\n",
      "Epoch 48/50\n",
      " - 222s - loss: 0.2108 - acc: 0.9275 - val_loss: 0.1963 - val_acc: 0.9292\n",
      "Epoch 49/50\n",
      " - 226s - loss: 0.2113 - acc: 0.9270 - val_loss: 0.1901 - val_acc: 0.9322\n",
      "Epoch 50/50\n",
      " - 224s - loss: 0.2104 - acc: 0.9276 - val_loss: 0.1935 - val_acc: 0.9295\n",
      "Elapse Time on Model Fit (In Minutes):  189.0\n"
     ]
    }
   ],
   "source": [
    "# Atualizar o parametro epochs quando for gerar o modelo final. O valor 5 serve apenas para compilar o modelo rapidamente e testar a gravação dos arquivos h5 e json no COS.\n",
    "start = time.time()\n",
    "params = {'first_neuron':8,\n",
    "            'second_neuron':4,\n",
    "            #'third_neuron':4,\n",
    "            'dropout': 0.4,\n",
    "            'optimizer': Adam,\n",
    "            'losses': binary_crossentropy,\n",
    "            'activation':relu,\n",
    "            'last_activation': 'sigmoid',\n",
    "            'epochs':50}\n",
    "\n",
    "model = Sequential()\n",
    "\n",
    "\n",
    "#First Hidden Layer\n",
    "model.add(Dense(params['first_neuron'], \n",
    "                input_dim=X_train.shape[1], \n",
    "                activation=params['activation'],\n",
    "                kernel_initializer='normal'))\n",
    "#Dropout\n",
    "model.add(Dropout(params['dropout']))\n",
    "\n",
    "#Second  Hidden Layer\n",
    "model.add(Dense(params['second_neuron'], \n",
    "                activation=params['activation'], \n",
    "                kernel_initializer='normal'))\n",
    "\n",
    "#Third  Hidden Layer\n",
    "#model.add(Dense(params['third_neuron'], \n",
    "#                activation=params['activation'], \n",
    "#                kernel_initializer='normal'))\n",
    "\n",
    "#Fourth  Hidden Layer\n",
    "#model.add(Dense(params['Fifth_neuron'], \n",
    "#                activation=params['activation'], \n",
    "#                kernel_initializer='normal'))\n",
    "\n",
    "#Fifth  Hidden Layer\n",
    "#model.add(Dense(params['fourth_neuron'], \n",
    "#                activation=params['activation'], \n",
    "#                kernel_initializer='normal'))\n",
    "\n",
    "\n",
    "#Output Layer\n",
    "model.add(Dense(1, \n",
    "                activation=params['last_activation'], \n",
    "                kernel_initializer='normal'))\n",
    "\n",
    "#Compilando a rede neural\n",
    "model.compile(loss=params['losses'],\n",
    "              optimizer=params['optimizer'](),\n",
    "              metrics=['accuracy'])\n",
    "\n",
    "#Ajuste do modelo utilzando 150 épocas de treinamento\n",
    "history = model.fit(X_train, \n",
    "                    Y_train, \n",
    "                    validation_data=(X_test,Y_test),\n",
    "                    batch_size=2,\n",
    "                    epochs=params['epochs'],\n",
    "                    verbose=2)\n",
    "end = time.time()\n",
    "eTime = round((end - start) / 60,0)\n",
    "\n",
    "print('Elapse Time on Model Fit (In Minutes): ', eTime)\n"
   ]
  },
  {
   "cell_type": "code",
   "execution_count": 15,
   "metadata": {},
   "outputs": [
    {
     "name": "stdout",
     "output_type": "stream",
     "text": [
      "dict_keys(['val_loss', 'val_acc', 'loss', 'acc'])\n"
     ]
    }
   ],
   "source": [
    "print(history.history.keys())"
   ]
  },
  {
   "cell_type": "code",
   "execution_count": 16,
   "metadata": {},
   "outputs": [
    {
     "data": {
      "image/png": "[encoded data removed]",
      "text/plain": [
       "<Figure size 432x288 with 1 Axes>"
      ]
     },
     "metadata": {
      "needs_background": "light"
     },
     "output_type": "display_data"
    },
    {
     "data": {
      "image/png": "[encoded data removed]",
      "text/plain": [
       "<Figure size 432x288 with 1 Axes>"
      ]
     },
     "metadata": {
      "needs_background": "light"
     },
     "output_type": "display_data"
    }
   ],
   "source": [
    "# summarize history for accuracy\n",
    "plt.plot(history.history['acc'])\n",
    "plt.plot(history.history['val_acc'])\n",
    "plt.title('acurácia ')\n",
    "plt.ylabel('acurácia')\n",
    "plt.xlabel('época')\n",
    "plt.legend(['train', 'test'], loc='upper left')\n",
    "plt.show()\n",
    "# summarize history for loss\n",
    "plt.plot(history.history['loss'])\n",
    "plt.plot(history.history['val_loss'])\n",
    "plt.title('model loss')\n",
    "plt.ylabel('loss')\n",
    "plt.xlabel('época')\n",
    "plt.legend(['train', 'test'], loc='upper left')\n",
    "plt.show()"
   ]
  },
  {
   "cell_type": "code",
   "execution_count": 17,
   "metadata": {},
   "outputs": [
    {
     "name": "stdout",
     "output_type": "stream",
     "text": [
      "acc: 92.95%\n"
     ]
    }
   ],
   "source": [
    "scores = model.evaluate(X_test, Y_test, verbose=0)\n",
    "print(\"%s: %.2f%%\" % (model.metrics_names[1], scores[1]*100))"
   ]
  },
  {
   "cell_type": "markdown",
   "metadata": {},
   "source": [
    "***\n",
    "<font size=\"6\"><a id=\"evaluation\">05.3 - Avaliar o modelo através da matriz de Confusão</a></font>\n",
    "***"
   ]
  },
  {
   "cell_type": "markdown",
   "metadata": {},
   "source": [
    "<div class=\"alert alert-block alert-success\">\n",
    "<b>Section Description: </b>Esta seção tem como objetivo avaliar os resultados obtidos pelo modelo de acordo com o treinamento e o conjunto de testes.\n",
    "</div>"
   ]
  },
  {
   "cell_type": "code",
   "execution_count": 18,
   "metadata": {},
   "outputs": [
    {
     "name": "stdout",
     "output_type": "stream",
     "text": [
      "67000/67000 [==============================] - 3s 51us/step\n"
     ]
    },
    {
     "data": {
      "text/plain": [
       "[0.19113279347277398, 0.9305820895522388]"
      ]
     },
     "execution_count": 18,
     "metadata": {},
     "output_type": "execute_result"
    }
   ],
   "source": [
    "#Avaliar o modelo\n",
    "eval_model=model.evaluate(X_train, Y_train)\n",
    "eval_model"
   ]
  },
  {
   "cell_type": "code",
   "execution_count": 19,
   "metadata": {},
   "outputs": [
    {
     "data": {
      "text/plain": [
       "array([[0.9614122 ],\n",
       "       [0.02952063],\n",
       "       [0.9344981 ],\n",
       "       ...,\n",
       "       [0.85916793],\n",
       "       [0.92906773],\n",
       "       [0.9053644 ]], dtype=float32)"
      ]
     },
     "execution_count": 19,
     "metadata": {},
     "output_type": "execute_result"
    }
   ],
   "source": [
    "#Classificar utilizando o set de testes\n",
    "y_pred=model.predict(X_test)\n",
    "y_pred\n",
    "#=(y_pred>0.5)"
   ]
  },
  {
   "cell_type": "markdown",
   "metadata": {},
   "source": [
    "***\n",
    "<font size=\"6\"><a id=\"evaluation\">06 - Persistir o Modelo - Via COS</a></font>\n",
    "***"
   ]
  },
  {
   "cell_type": "markdown",
   "metadata": {},
   "source": [
    "<div class=\"alert alert-block alert-success\">\n",
    "<b>Section Description: </b>Esta seção tem como objetivo persistir o modelo Keras salvando JSON e H5 no COS.\n",
    "</div>"
   ]
  },
  {
   "cell_type": "code",
   "execution_count": 20,
   "metadata": {},
   "outputs": [
    {
     "name": "stdout",
     "output_type": "stream",
     "text": [
      "total 12408\r\n",
      "drwxr-x--- 2 dsxuser dsxuser     4096 Dec 18 15:54 .\r\n",
      "drwx------ 1 dsxuser dsxuser     4096 Dec 18 12:45 ..\r\n",
      "-rw-r----- 1 dsxuser dsxuser 12669559 Dec 18 12:45 ArquivoTreinamento.csv\r\n",
      "-rw-r----- 1 dsxuser dsxuser    16688 Dec 18 15:54 RefinPredictionModel-Keras.h5\r\n",
      "-rw-r----- 1 dsxuser dsxuser     1603 Dec 18 15:54 RefinPredictionModel-Keras.json\r\n"
     ]
    }
   ],
   "source": [
    "#1 - Salvar o Arquivo localmente\n",
    "#1.1 - Definir o nome dos aquivos\n",
    "filenameH5 = 'RefinPredictionModel-Keras.h5'\n",
    "filenameJSON = 'RefinPredictionModel-Keras.json'\n",
    "\n",
    "#1.2 - Remover os arquivos se existirem \n",
    "with suppress(OSError):\n",
    "    os.remove(filenameH5)   \n",
    "    os.remove(filenameJSON)\n",
    "\n",
    "#1.3 - Gerar o json do Modelo e grava-lo localmente\n",
    "model_json = model.to_json()\n",
    "with open(filenameJSON, \"w\") as json_file:\n",
    "    json_file.write(model_json)\n",
    "#1.4 - Gravar os pesos do modelo localmente\n",
    "model.save_weights(filenameH5)\n",
    "\n",
    "#1.5 - Conferir se foram gravados com sucesos\n",
    "!ls -la"
   ]
  },
  {
   "cell_type": "code",
   "execution_count": 21,
   "metadata": {},
   "outputs": [],
   "source": [
    "#2 - Fazer UPLOAD para Bucket 04work-models de Modelos\n",
    "# @hidden_cell\n",
    "# The following code contains the credentials for a file in your IBM Cloud Object Storage.\n",
    "# You might want to remove those credentials before you share your notebook.\n",
    "cos_credentials={\n",
    "  \"apikey\": \"d9G8MTJTy4EdY0r5jVkCRDMSBFCKfmQaMRW8oOFI0eDD\",\n",
    "  \"endpoints\": \"https://cos-service.bluemix.net/endpoints\",\n",
    "  \"iam_apikey_description\": \"Auto generated apikey during resource-key operation for Instance - crn:v1:bluemix:public:cloud-object-storage:global:a/f819585dc4c43dfca0a953a8fc2635bb:a5bc02d4-816f-4d0b-8830-bd98421cb97f::\",\n",
    "  \"iam_apikey_name\": \"auto-generated-apikey-b4c9dfbc-d2cd-429a-b3c5-4ad08f0735fa\",\n",
    "  \"iam_role_crn\": \"crn:v1:bluemix:public:iam::::serviceRole:Manager\",\n",
    "  \"iam_serviceid_crn\": \"crn:v1:bluemix:public:iam-identity::a/f819585dc4c43dfca0a953a8fc2635bb::serviceid:ServiceId-2e1053db-c54b-46d5-821c-85b692c0ac0e\",\n",
    "  \"resource_instance_id\": \"crn:v1:bluemix:public:cloud-object-storage:global:a/f819585dc4c43dfca0a953a8fc2635bb:a5bc02d4-816f-4d0b-8830-bd98421cb97f::\"\n",
    "}\n",
    "auth_endpoint = 'https://iam.bluemix.net/oidc/token'\n",
    "service_endpoint = 'https://s3.us-south.cloud-object-storage.appdomain.cloud'\n",
    "\n",
    "cos = ibm_boto3.client('s3',\n",
    "                       ibm_api_key_id=cos_credentials['apikey'],\n",
    "                       ibm_service_instance_id=cos_credentials['resource_instance_id'],\n",
    "                       ibm_auth_endpoint=auth_endpoint,\n",
    "                       config=Config(signature_version='oauth'),\n",
    "                       endpoint_url=service_endpoint)"
   ]
  },
  {
   "cell_type": "code",
   "execution_count": 22,
   "metadata": {},
   "outputs": [],
   "source": [
    "cos.upload_file(Filename=filenameH5,Bucket='04work-crm',Key=filenameH5)\n",
    "cos.upload_file(Filename=filenameJSON,Bucket='04work-crm',Key=filenameJSON)"
   ]
  }
 ],
 "metadata": {
  "kernelspec": {
   "display_name": "Python 3",
   "language": "python",
   "name": "python3"
  },
  "language_info": {
   "codemirror_mode": {
    "name": "ipython",
    "version": 3
   },
   "file_extension": ".py",
   "mimetype": "text/x-python",
   "name": "python",
   "nbconvert_exporter": "python",
   "pygments_lexer": "ipython3",
   "version": "3.7.3"
  }
 },
 "nbformat": 4,
 "nbformat_minor": 1
}
